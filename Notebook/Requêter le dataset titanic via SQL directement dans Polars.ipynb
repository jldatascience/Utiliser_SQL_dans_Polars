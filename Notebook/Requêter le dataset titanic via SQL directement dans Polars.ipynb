{
 "cells": [
  {
   "attachments": {},
   "cell_type": "markdown",
   "metadata": {},
   "source": [
    "# Utiliser SQL dans Polars"
   ]
  },
  {
   "cell_type": "code",
   "execution_count": 1,
   "metadata": {},
   "outputs": [
    {
     "name": "stdout",
     "output_type": "stream",
     "text": [
      "shape: (1, 12)\n",
      "┌─────────────┬──────────┬────────┬──────────────────┬───┬───────────┬──────┬───────┬──────────┐\n",
      "│ PassengerId ┆ Survived ┆ Pclass ┆ Name             ┆ … ┆ Ticket    ┆ Fare ┆ Cabin ┆ Embarked │\n",
      "│ ---         ┆ ---      ┆ ---    ┆ ---              ┆   ┆ ---       ┆ ---  ┆ ---   ┆ ---      │\n",
      "│ i64         ┆ i64      ┆ i64    ┆ str              ┆   ┆ str       ┆ f64  ┆ str   ┆ str      │\n",
      "╞═════════════╪══════════╪════════╪══════════════════╪═══╪═══════════╪══════╪═══════╪══════════╡\n",
      "│ 1           ┆ 0        ┆ 3      ┆ Braund, Mr. Owen ┆ … ┆ A/5 21171 ┆ 7.25 ┆ null  ┆ S        │\n",
      "│             ┆          ┆        ┆ Harris           ┆   ┆           ┆      ┆       ┆          │\n",
      "└─────────────┴──────────┴────────┴──────────────────┴───┴───────────┴──────┴───────┴──────────┘\n"
     ]
    }
   ],
   "source": [
    "import polars as pl\n",
    "\n",
    "# read in data\n",
    "df_pl_titanic = pl.scan_csv('/Users/jl/Downloads/titanic.csv')\n",
    "\n",
    "\n",
    "\n",
    "# prep for sql execution\n",
    "\n",
    "# Créer un contexte pour que SQL travaille sur un dataframe Polars\n",
    "sql = pl.SQLContext()\n",
    "\n",
    "\n",
    "# Enregistrer le nom du dataframe pour qu'il soit utilisé dans notre requête SQL\n",
    "sql.register('df_pl_titanic', df_pl_titanic)\n",
    "\n",
    "\n",
    "# Exécuter la requête qui renvoie un dataframe Polars\n",
    "result_df_titanic = sql.execute(\n",
    "    \"\"\"\n",
    "      select \n",
    "        *\n",
    "      from df_pl_titanic\n",
    "      where Name = 'Braund, Mr. Owen Harris'\n",
    "    \"\"\"\n",
    ").collect()\n",
    "\n",
    "print(result_df_titanic)"
   ]
  }
 ],
 "metadata": {
  "kernelspec": {
   "display_name": "base",
   "language": "python",
   "name": "python3"
  },
  "language_info": {
   "codemirror_mode": {
    "name": "ipython",
    "version": 3
   },
   "file_extension": ".py",
   "mimetype": "text/x-python",
   "name": "python",
   "nbconvert_exporter": "python",
   "pygments_lexer": "ipython3",
   "version": "3.10.2"
  },
  "orig_nbformat": 4
 },
 "nbformat": 4,
 "nbformat_minor": 2
}
